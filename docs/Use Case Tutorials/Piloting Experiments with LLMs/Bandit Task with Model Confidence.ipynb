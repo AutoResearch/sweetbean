{
 "cells": [
  {
   "metadata": {},
   "cell_type": "markdown",
   "source": [
    "# Bandit Task with Model Confidence\n",
    "\n",
    "Bandit tasks are used to study human reinforcement learning behavior. Here, we will implement a two-armed bandit task. We then run the same task on a language model specifically trained on tasks like these ([centaur](https://marcelbinz.github.io/centaur/)) and compare the results. To demonstrate how we can add additional data-points to the experiment, we will assess the certainty of the model's predictions. This can be used, for example, to explore which experimental designs are informative. (see, for example, [AutoRA Uncertainty Experimentalist](https://autoresearch.github.io/autora/user-guide/experimentalists/uncertainty/)"
   ],
   "id": "230e333b982d6b2a"
  },
  {
   "metadata": {},
   "cell_type": "markdown",
   "source": [
    "## Two-Armed Bandit Task\n",
    "\n",
    "### Installation"
   ],
   "id": "c455043b373c1607"
  },
  {
   "metadata": {},
   "cell_type": "code",
   "outputs": [],
   "execution_count": null,
   "source": [
    "%%capture\n",
    "!pip install sweetbean"
   ],
   "id": "1e8512665e9122e9"
  },
  {
   "metadata": {},
   "cell_type": "markdown",
   "source": "### Imports",
   "id": "44c64e0c58cafb2f"
  },
  {
   "metadata": {},
   "cell_type": "code",
   "outputs": [],
   "execution_count": null,
   "source": [
    "from sweetbean import Block, Experiment\n",
    "from sweetbean.stimulus import Bandit, Text\n",
    "from sweetbean.variable import (\n",
    "    DataVariable,\n",
    "    FunctionVariable,\n",
    "    SharedVariable,\n",
    "    SideEffect,\n",
    "    TimelineVariable,\n",
    ")"
   ],
   "id": "eb82692238968586"
  },
  {
   "metadata": {},
   "cell_type": "markdown",
   "source": [
    "### Timeline\n",
    "\n",
    "Here, we slowly change the values of `bandit_1` 10 to 0 and for `bandit_2` in reverse order from 0 to 10.\n"
   ],
   "id": "2c15589cd4ac9aab"
  },
  {
   "metadata": {},
   "cell_type": "code",
   "outputs": [],
   "execution_count": null,
   "source": [
    "timeline = []\n",
    "for i in range(11):\n",
    "    timeline.append(\n",
    "        {\n",
    "            \"bandit_1\": {\"color\": \"orange\", \"value\": 10 - i},\n",
    "            \"bandit_2\": {\"color\": \"blue\", \"value\": i},\n",
    "        }\n",
    "    )"
   ],
   "id": "d1e1a102f36ffec1"
  },
  {
   "metadata": {},
   "cell_type": "markdown",
   "source": [
    "### Implementation\n",
    "\n",
    "We also keep track of the score with a shared variable to present it between the bandit tasks."
   ],
   "id": "fde978838d520ba3"
  },
  {
   "metadata": {},
   "cell_type": "code",
   "outputs": [],
   "execution_count": null,
   "source": [
    "bandit_1 = TimelineVariable(\"bandit_1\")\n",
    "bandit_2 = TimelineVariable(\"bandit_2\")\n",
    "\n",
    "score = SharedVariable(\"score\", 0)\n",
    "value = DataVariable(\"value\", 0)\n",
    "\n",
    "update_score = FunctionVariable(\n",
    "    \"update_score\", lambda sc, val: sc + val, [score, value]\n",
    ")\n",
    "\n",
    "update_score_side_effect = SideEffect(score, update_score)\n",
    "\n",
    "bandit_task = Bandit(\n",
    "    bandits=[bandit_1, bandit_2],\n",
    "    side_effects=[update_score_side_effect],\n",
    ")\n",
    "\n",
    "score_text = FunctionVariable(\"score_text\", lambda sc: f\"Score: {sc}\", [score])\n",
    "\n",
    "show_score = Text(duration=2000, text=score_text)\n",
    "\n",
    "trial_sequence = Block([bandit_task, show_score], timeline=timeline)\n",
    "experiment = Experiment([trial_sequence])"
   ],
   "id": "cc1d13e362961486"
  },
  {
   "metadata": {},
   "cell_type": "markdown",
   "source": [
    "Instead of running the experiment manually, we can also use a large language model. In this case, we use [centaur](https://marcelbinz.github.io/centaur/). This model has been trained on similar tasks as the two-armed bandit task. We can use the model to predict the next response and then run the experiment on the model. We can also assess the models certainty in its predictions. If we want to use additional data, our generate_function should return a dictionary. The key \"response\" is mandatory and should contain the response. There can be as many additional keys in the dictionary as needed. In this case, we will add the key \"certainty\" to the dictionary. This key will contain the certainty of the model in its prediction.\n",
    "\n",
    "First, we need to install unsloth"
   ],
   "id": "65811b27bbc3aad0"
  },
  {
   "metadata": {},
   "cell_type": "code",
   "outputs": [],
   "execution_count": null,
   "source": "!pip install unsloth \"xformers==0.0.28.post2\"",
   "id": "20d6062a30b5e0f9"
  },
  {
   "metadata": {},
   "cell_type": "markdown",
   "source": "Then, we load the model:",
   "id": "17238c4a61ec5c88"
  },
  {
   "metadata": {},
   "cell_type": "code",
   "outputs": [],
   "execution_count": null,
   "source": [
    "from unsloth import FastLanguageModel\n",
    "import torch\n",
    "\n",
    "model, tokenizer = FastLanguageModel.from_pretrained(\n",
    "  model_name = \"marcelbinz/Llama-3.1-Centaur-8B-adapter\",\n",
    "  max_seq_length = 32768,\n",
    "  dtype = None,\n",
    "  load_in_4bit = True,\n",
    ")\n",
    "FastLanguageModel.for_inference(model)\n",
    "\n",
    "# our generate function will return a dict with the response and the certainty\n",
    "def generate(prompt):\n",
    "    inputs = tokenizer(prompt, return_tensors=\"pt\")\n",
    "\n",
    "\n",
    "    # Generate logits and tokens\n",
    "    with torch.no_grad():\n",
    "        outputs = model.generate(\n",
    "            **inputs,\n",
    "            max_new_tokens=1,          # Generate only one new token\n",
    "            do_sample=True,\n",
    "            temperature=1.0,\n",
    "            return_dict_in_generate=True,\n",
    "            output_scores=True,        # Enable outputting scores (logits)\n",
    "        )\n",
    "\n",
    "# Get generated tokens (including the input prompt and the new token)\n",
    "    generated_tokens = outputs.sequences  # Shape: [batch_size, sequence_length]\n",
    "    \n",
    "    # Extract the generated token ID (the last token in the sequence)\n",
    "    generated_token_id = generated_tokens[0, -1]  # Assuming batch_size = 1\n",
    "    \n",
    "    # Convert logits to probabilities\n",
    "    scores = outputs.scores  # List of logits for each generation step\n",
    "    # Since max_new_tokens=1, outputs.scores will have length 1\n",
    "    logits = scores[0]       # Shape: [batch_size, vocab_size]\n",
    "    probabilities = torch.softmax(logits, dim=-1)  # Convert logits to probabilities\n",
    "    \n",
    "    # Get the probability of the generated token\n",
    "    token_probability = probabilities[0, generated_token_id].item()  # probabilities[batch_idx, token_id]\n",
    "    \n",
    "    # Decode the generated text (including the input prompt and the new token)\n",
    "    generated_text = tokenizer.decode(generated_tokens[0][-1], skip_special_tokens=True)\n",
    "\n",
    "    return {\"response\": generated_text, \"certainty\": token_probability}"
   ],
   "id": "64acf3a7b140cf55"
  },
  {
   "metadata": {},
   "cell_type": "code",
   "outputs": [],
   "execution_count": null,
   "source": "data = experiment.run_on_language(generate)",
   "id": "ef70983b1c5ffb2c"
  },
  {
   "metadata": {},
   "cell_type": "markdown",
   "source": [
    "## Results\n",
    "\n",
    "We can now look at the results: The responses, the values of the chosen bandits, and the certainty of the model in its predictions."
   ],
   "id": "4827f9480b8363f6"
  },
  {
   "metadata": {},
   "cell_type": "code",
   "outputs": [],
   "execution_count": null,
   "source": [
    "responses = [d[\"response\"] for d in data]\n",
    "values = [d[\"value\"] for d in data]\n",
    "certainties = [d[\"certainty\"] for d in data]\n",
    "\n",
    "for i, (response, value, certainty) in enumerate(zip(responses, values, certainties)):\n",
    "    print(f\"Response {i}: {response} (Value: {value}, Certainty: {certainty})\")"
   ],
   "id": "c9a415d1e48080"
  },
  {
   "metadata": {},
   "cell_type": "markdown",
   "source": [
    "# Conclusion\n",
    "\n",
    "This notebook demonstrates how to run a simple bandit task via a language model and assess its certainty. The results can, for example, can be used to explore which experimental designs are informative. \n",
    "\n",
    "SweetBean is also integrated in [AutoRa](https://autoresearch.github.io/autora/), a platform for running the same experiments automatically via prolific. This allows for automatic data collection and analysis while using large language models either for prototyping, in finding good experimental design or for automatic fine-tuning."
   ],
   "id": "724aa20efce195c7"
  }
 ],
 "metadata": {
  "kernelspec": {
   "display_name": "Python 3",
   "language": "python",
   "name": "python3"
  },
  "language_info": {
   "codemirror_mode": {
    "name": "ipython",
    "version": 2
   },
   "file_extension": ".py",
   "mimetype": "text/x-python",
   "name": "python",
   "nbconvert_exporter": "python",
   "pygments_lexer": "ipython2",
   "version": "2.7.6"
  }
 },
 "nbformat": 4,
 "nbformat_minor": 5
}
