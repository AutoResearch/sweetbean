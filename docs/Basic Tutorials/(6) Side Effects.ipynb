{
 "nbformat": 4,
 "nbformat_minor": 0,
 "metadata": {
  "colab": {
   "provenance": [],
   "collapsed_sections": [
    "AnygibSefULz",
    "lTxBdR4qgGLl"
   ]
  },
  "kernelspec": {
   "name": "python3",
   "display_name": "Python 3"
  },
  "language_info": {
   "name": "python"
  }
 },
 "cells": [
  {
   "cell_type": "markdown",
   "source": [
    "# (6) Side Effects\n",
    "Next, we will learn how to add stimuli that change as a function of the participant's responses via the ``SideEffect`` functionality.\n",
    "\n",
    "Specifically, we seek to include a score into our task switching experiment a **running score indicating the average accuracy** of the participant."
   ],
   "metadata": {
    "id": "YmmUtUIar_NS"
   }
  },
  {
   "cell_type": "markdown",
   "source": [
    "## Installing sweetbean"
   ],
   "metadata": {
    "id": "E5DW7Mg5swMl"
   }
  },
  {
   "cell_type": "code",
   "source": [
    "!pip install sweetbean"
   ],
   "metadata": {
    "id": "4f4nnUgPuQZ9"
   },
   "outputs": [],
   "execution_count": null
  },
  {
   "cell_type": "markdown",
   "source": "We will use the following timeline for our experiment. Note, that we add an additional time line variable called ``trial`` that indexes the current trial. We will use this variable later to compute the running accuracy of the participant for every trial.",
   "metadata": {
    "id": "WV_t3zqMRWsH"
   }
  },
  {
   "cell_type": "code",
   "source": [
    "timeline = [\n",
    "    {'color': 'red', 'word': 'RED', 'task': 'color_naming', 'trial': 1},\n",
    "    {'color': 'green', 'word': 'GREEN', 'task': 'color_naming', 'trial': 2},\n",
    "    {'color': 'green', 'word': 'RED', 'task': 'word_reading', 'trial': 3},\n",
    "    {'color': 'red', 'word': 'GREEN', 'task': 'word_reading', 'trial': 4},\n",
    "    {'color': 'red', 'word': 'GREEN', 'task': 'word_reading', 'trial': 5},\n",
    "    {'color': 'red', 'word': 'RED', 'task': 'color_naming', 'trial': 6},\n",
    "    {'color': 'green', 'word': 'RED', 'task': 'word_reading', 'trial': 7},\n",
    "    {'color': 'red', 'word': 'GREEN', 'task': 'color_naming', 'trial': 8},\n",
    "    {'color': 'green', 'word': 'RED', 'task': 'color_naming', 'trial': 9},\n",
    "    {'color': 'red', 'word': 'GREEN', 'task': 'word_reading', 'trial': 10},\n",
    "]"
   ],
   "metadata": {
    "id": "Joq9bmOeSuFe"
   },
   "outputs": [],
   "execution_count": null
  },
  {
   "cell_type": "markdown",
   "source": [
    "First we want to declare the timeline variables"
   ],
   "metadata": {
    "id": "OfkhXdnEWFVP"
   }
  },
  {
   "cell_type": "code",
   "source": [
    "# imports\n",
    "from sweetbean.variable import TimelineVariable\n",
    "\n",
    "color = TimelineVariable('color')\n",
    "word = TimelineVariable('word')\n",
    "task = TimelineVariable('task')\n",
    "trial = TimelineVariable('trial')"
   ],
   "metadata": {
    "id": "QpDewU19WNtm"
   },
   "outputs": [],
   "execution_count": null
  },
  {
   "cell_type": "markdown",
   "source": [
    "## Defining the stimuli\n",
    "\n",
    "Next, we add the main stimuli for the experiment:\n",
    "- a fixation cross\n",
    "- a blank interval between the fixation cross and a Stroop stimulus\n",
    "- a stroop stimulus\n",
    "- a blank inter-trial interval at the end of the trial"
   ],
   "metadata": {
    "id": "7elbLTLxdpku"
   }
  },
  {
   "cell_type": "markdown",
   "source": [
    "### Fixation cross\n",
    "\n",
    "The fixation cross should display a \"+\" if participants are supposed to respond to the color (color-naming task) and a \"x\" if they are supposed to respond to the word (word reading task).\n",
    "\n",
    "Can you define a ``FunctionVariable`` encoding the correct string displayed for the fixation cross as a function of the ``task`` variable?"
   ],
   "metadata": {
    "id": "QYy2sWsOeEOg"
   }
  },
  {
   "cell_type": "code",
   "source": [
    "from sweetbean.variable import FunctionVariable\n",
    "\n",
    "# Predicates\n",
    "def fixation_shape_fct(task):\n",
    "    # Enter your code here\n",
    "\n",
    "\n",
    "# variable\n",
    "fixation_shape = # Enter your code here"
   ],
   "metadata": {
    "id": "nLNuCKJ3eiSh"
   },
   "execution_count": null,
   "outputs": []
  },
  {
   "cell_type": "markdown",
   "source": [
    "#### Solution"
   ],
   "metadata": {
    "id": "1WCeFGZfeRH5"
   }
  },
  {
   "cell_type": "code",
   "source": [
    "from sweetbean.variable import FunctionVariable\n",
    "\n",
    "# Predicates\n",
    "def fixation_shape_fct(task):\n",
    "    if task == 'color_naming':\n",
    "        return '+'\n",
    "    return 'x'\n",
    "\n",
    "\n",
    "# variable\n",
    "fixation_shape = FunctionVariable('fixation_shape', fixation_shape_fct, [task])"
   ],
   "metadata": {
    "id": "fwRKOObDeShB"
   },
   "execution_count": null,
   "outputs": []
  },
  {
   "cell_type": "markdown",
   "source": "The fixation shape determines the fixation stimulus.",
   "metadata": {
    "id": "jGKYwleoj7Jm"
   }
  },
  {
   "cell_type": "code",
   "source": [
    "fixation = Text(1000, fixation_shape)"
   ],
   "metadata": {
    "id": "LX2eBQ2Ej-Rd"
   },
   "execution_count": null,
   "outputs": []
  },
  {
   "cell_type": "markdown",
   "source": [
    "### Intervals\n",
    "\n",
    "Next, we define two blank intervals, one between the fixation cross and the stimulus (800ms), and another inter-trial interval (500ms)."
   ],
   "metadata": {
    "id": "c-VUS3rNexny"
   }
  },
  {
   "cell_type": "code",
   "source": [
    "# Enter your code here"
   ],
   "metadata": {
    "id": "XODXfQM3e-nL"
   },
   "execution_count": null,
   "outputs": []
  },
  {
   "cell_type": "markdown",
   "source": [
    "#### Solution"
   ],
   "metadata": {
    "id": "AnygibSefULz"
   }
  },
  {
   "cell_type": "code",
   "source": [
    "from sweetbean.stimulus import Text\n",
    "\n",
    "fixation_stimulus_interval = Text(800)\n",
    "inter_trial_interval = Text(500)"
   ],
   "metadata": {
    "id": "yKmUmDkyfVWW"
   },
   "execution_count": null,
   "outputs": []
  },
  {
   "cell_type": "markdown",
   "source": [
    "### Stroop stimulus\n",
    "\n",
    "Eventually, we want to show the stroop stimulus to which people must respond. This one is a bit more complicated as we have to first determine the correct response to each stimulus. We will use that later to compute our accuracy score."
   ],
   "metadata": {
    "id": "NCEfzAEofe0z"
   }
  },
  {
   "cell_type": "markdown",
   "source": [
    "To encode the correctness of the response to each Stroop stimulus we will define a predicate with three input arguments. Let's say we want the participant to press f when the color is \"red\" in the color_naming task or the word is \"RED\" in the word_reading task. They should press j when the color is \"green\" in the color_naming task or the word is \"GREEN\" in the word_reading task.\n",
    "\n",
    "The ``correct_key`` FunctionVariable indicates the correct key for the stimulus.\n",
    "\n",
    "Can you complete the code below based on what you learned in the previous tutorials?"
   ],
   "metadata": {
    "id": "3tr28gwvf1qx"
   }
  },
  {
   "cell_type": "code",
   "source": [
    "from sweetbean.variable import FunctionVariable\n",
    "\n",
    "# Predicate\n",
    "def correct_key_fct(word, color, task):\n",
    "    # Enter your code here\n",
    "\n",
    "\n",
    "\n",
    "# variable for the response\n",
    "correct_key = # Enter your code here"
   ],
   "metadata": {
    "id": "egD6iFKDf-qr"
   },
   "execution_count": null,
   "outputs": []
  },
  {
   "cell_type": "markdown",
   "source": [
    "#### Solution"
   ],
   "metadata": {
    "id": "lTxBdR4qgGLl"
   }
  },
  {
   "cell_type": "code",
   "source": [
    "from sweetbean.variable import FunctionVariable\n",
    "\n",
    "# Predicate for f\n",
    "def correct_key_fct(word, color, task):\n",
    "    if (task == 'word_reading' and word == 'RED') or \\\n",
    "        (task == 'color_naming' and color == 'red'):\n",
    "        return 'f'\n",
    "    return 'j'\n",
    "\n",
    "\n",
    "\n",
    "# variable for the response\n",
    "correct_key = FunctionVariable('correct_key', correct_key_fct, [word, color, task])"
   ],
   "metadata": {
    "id": "SNBKM0XcgH3A"
   },
   "execution_count": null,
   "outputs": []
  },
  {
   "cell_type": "markdown",
   "source": [
    "Next, we can define the Stroop stimulus which is shown for 2000ms."
   ],
   "metadata": {
    "id": "yjBc74kvgQss"
   }
  },
  {
   "cell_type": "code",
   "source": [
    "stroop = Text(2000,\n",
    "              word, color, ['f', 'j'],\n",
    "              correct_key)"
   ],
   "metadata": {
    "id": "JXyTzKCng3_W"
   },
   "execution_count": null,
   "outputs": []
  },
  {
   "cell_type": "markdown",
   "source": [
    "## Adding Side Effects to Compute an Accuracy Score\n",
    "\n",
    "Now that we have our basic stimuli in place, it is time to think about how we can add a running accuracy score to the experiment.\n",
    "\n"
   ],
   "metadata": {
    "id": "E9PlC6BzPT7g"
   }
  },
  {
   "cell_type": "markdown",
   "source": [
    "### Obtaining the single-trial accuracy from the data\n",
    "\n",
    "All stimuli that have the ``correct_key`` parameter compute a ``correct`` value indicating whether the response was correct or not. This is also the case for the Stroop stimulus defined above.\n",
    "\n",
    "This is a property of the data, i.e., a data variable. Let's define this data variable. In this case, we add the additional argument `1` to refer to the response of the previous trial (1 stimulus back)."
   ],
   "metadata": {
    "id": "Gvcg6UAIUpBT"
   }
  },
  {
   "cell_type": "code",
   "source": [
    "from sweetbean.variable import DataVariable\n",
    "\n",
    "# declare the data variable\n",
    "correct = DataVariable('correct', 1)"
   ],
   "metadata": {
    "id": "ZouqaYucVKoo"
   },
   "execution_count": null,
   "outputs": []
  },
  {
   "cell_type": "markdown",
   "source": [
    "### Counting the number of correct trials\n",
    "\n",
    "Now, we define a count for the number of accurate trials as a ``SharedVariable`` which can be shared across different trials. We initialize it with zero."
   ],
   "metadata": {
    "id": "d71PFg0uQd5e"
   }
  },
  {
   "cell_type": "code",
   "source": [
    "from sweetbean.variable import SharedVariable\n",
    "\n",
    "num_correct = SharedVariable(\"num_correct\", 0)"
   ],
   "metadata": {
    "id": "WXd_YhR7PexF"
   },
   "execution_count": 20,
   "outputs": []
  },
  {
   "cell_type": "markdown",
   "source": [
    "Next, we write an update function that increases the number of correct trials based on the current response."
   ],
   "metadata": {
    "id": "1ojSpX0_PXPM"
   }
  },
  {
   "cell_type": "code",
   "source": [
    "update_num_correct = FunctionVariable(\n",
    "    \"update_num_correct\", lambda score, value: score + value, [num_correct, correct]\n",
    ")"
   ],
   "metadata": {
    "id": "90Bw78e7QsX9"
   },
   "execution_count": 21,
   "outputs": []
  },
  {
   "cell_type": "markdown",
   "source": [
    "### Updating the number of correct trials with each stimulus presentation\n",
    "\n",
    "We can consider the updating the number of correct trials as a ``SideEffect`` of every Stroop stimulus presentation.  A side effects takes in the variable to set (in this case ``num_correct``) and the variable it will be set to (in this case the function variable ``update_num_correct``)."
   ],
   "metadata": {
    "id": "u62B3raMVz5l"
   }
  },
  {
   "cell_type": "code",
   "source": [
    "from sweetbean.variable import SideEffect\n",
    "\n",
    "update_accuracy_side_effect = SideEffect(num_correct, update_num_correct)"
   ],
   "metadata": {
    "id": "9sihn-wwRD1W"
   },
   "execution_count": 22,
   "outputs": []
  },
  {
   "cell_type": "markdown",
   "source": [
    "Side effects can be triggered with SweetBean stimuli.  In this case, we will associate the side effect with the occurrence of the Stroop stimulus.\n",
    "\n",
    "Let's re-define our Stroop stimulus above. This time, we will add the side effect that we just defined."
   ],
   "metadata": {
    "id": "J6DzWd7cXFFM"
   }
  },
  {
   "cell_type": "code",
   "source": [
    "stroop = Text(2000,\n",
    "              word,\n",
    "              color,\n",
    "               ['f', 'j'],\n",
    "              correct_key,\n",
    "              side_effects=[update_accuracy_side_effect])"
   ],
   "metadata": {
    "id": "-00OEAUaXVH9"
   },
   "execution_count": 23,
   "outputs": []
  },
  {
   "cell_type": "markdown",
   "source": [
    "### Displaying the accuracy score\n",
    "\n",
    "Finally, we want to display the running accuracy score. To do this, we can define another ``FunctionVariable'' that computes the accuracy as the number of correct responses divided by the number of trials."
   ],
   "metadata": {
    "id": "kx1j4DvhZxhq"
   }
  },
  {
   "cell_type": "code",
   "source": [
    "accuracy_text = FunctionVariable(\"accuracy_text\", lambda score, n: f\"Score: {score/n}\", [num_correct, trial])\n",
    "\n",
    "accuracy_score = Text(duration=2000, text=accuracy_text)"
   ],
   "metadata": {
    "id": "KHLy5QHjZWvG"
   },
   "execution_count": 24,
   "outputs": []
  },
  {
   "cell_type": "markdown",
   "source": [
    "## Finishing the experiment\n",
    "\n",
    "All right, now we can complete the experiment by arranging all stimuli in a block. Note that we are skipping instructions here, to keep it simple.\n",
    "\n",
    "Our Stroop block will have the following order of events:\n",
    "1. Fixation cross\n",
    "2. Fixation-stimulus interval\n",
    "3. Stroop stimulus\n",
    "4. Accuracy score\n",
    "5. Inter-trial interval"
   ],
   "metadata": {
    "id": "BH_uPjk0WXiJ"
   }
  },
  {
   "cell_type": "code",
   "source": [
    "from sweetbean import Block, Experiment\n",
    "\n",
    "# Block\n",
    "stroop_block = Block([fixation,\n",
    "                      fixation_stimulus_interval,\n",
    "                      stroop,\n",
    "                      accuracy_score,\n",
    "                      inter_trial_interval], timeline)\n",
    "experiment = Experiment([stroop_block])\n",
    "\n",
    "# Experiment\n",
    "experiment.to_html('index.html')"
   ],
   "metadata": {
    "id": "FJp7MgndY7Vj"
   },
   "outputs": [],
   "execution_count": null
  }
 ]
}
