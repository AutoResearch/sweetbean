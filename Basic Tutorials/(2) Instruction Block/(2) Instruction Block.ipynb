{
 "nbformat": 4,
 "nbformat_minor": 0,
 "metadata": {
  "colab": {
   "provenance": [],
   "collapsed_sections": [
    "RjnPZ5XitS1N",
    "n4xU4pgxw-G3",
    "TdQvaCBsSwtw",
    "QLUlVXSYV09Z",
    "LGkPvBb0WySx",
    "GLGYsePMWoqY"
   ]
  },
  "kernelspec": {
   "name": "python3",
   "display_name": "Python 3"
  },
  "language_info": {
   "name": "python"
  }
 },
 "cells": [
  {
   "cell_type": "markdown",
   "source": [
    "# (2) Instruction Block\n",
    "\n",
    "Here, we learn how to create an instruction block. We creat a block greeting the participants and give instruction for the tasks. We get familiar with the different options to customize text stimuli."
   ],
   "metadata": {
    "id": "YmmUtUIar_NS"
   }
  },
  {
   "cell_type": "markdown",
   "source": [
    "## Installing sweetbean\n",
    "\n",
    "Do you remember how to install the package?"
   ],
   "metadata": {
    "id": "E5DW7Mg5swMl"
   }
  },
  {
   "cell_type": "code",
   "metadata": {
    "id": "bAisVQuXrkGN"
   },
   "source": [
    "# Enter your code here:"
   ],
   "outputs": [],
   "execution_count": null
  },
  {
   "cell_type": "markdown",
   "source": [
    "\n",
    "### Solution"
   ],
   "metadata": {
    "id": "RjnPZ5XitS1N"
   }
  },
  {
   "cell_type": "code",
   "source": [
    "!pip install sweetbean"
   ],
   "metadata": {
    "id": "4f4nnUgPuQZ9",
    "colab": {
     "base_uri": "https://localhost:8080/"
    },
    "outputId": "987930a1-928f-47ec-83cf-1ef4b802611a"
   },
   "outputs": [],
   "execution_count": null
  },
  {
   "cell_type": "markdown",
   "source": [
    "## Creating text stimuli\n",
    "\n",
    "Do you remember how to import the functionality to create text stimuli?"
   ],
   "metadata": {
    "id": "qciisI4wwtsv"
   }
  },
  {
   "cell_type": "code",
   "source": [
    "# Enter your code here:"
   ],
   "metadata": {
    "id": "w9fF4jACw7y5"
   },
   "outputs": [],
   "execution_count": null
  },
  {
   "cell_type": "markdown",
   "source": [
    "### Solution"
   ],
   "metadata": {
    "id": "n4xU4pgxw-G3"
   }
  },
  {
   "cell_type": "code",
   "source": "from sweetbean.stimulus import Text",
   "metadata": {
    "id": "ee7ncR5XxAHN"
   },
   "outputs": [],
   "execution_count": null
  },
  {
   "cell_type": "markdown",
   "source": [
    "### Adding features to text stimuli\n",
    "This time, we want to add more functionality to our stimulus. Remember:\n",
    "```\n",
    "introduction_stimulus = Text(text='Welcome to our awesome experiment.')\n",
    "```\n",
    "#### Duration\n",
    "This stimulus has only one single parameter. The text parameter that defines what text is shown. But as we defined it, this stimulus would be shown indefinitely until the user closes the browser. To change this, we can add a duration parameter. The duration parameter is accepted by most stimuli types in SweetBean. It defines how long a stimulus is shown in ms."
   ],
   "metadata": {
    "id": "jI187rtxxVRl"
   }
  },
  {
   "cell_type": "code",
   "source": "introduction_stimulus_timed = Text(duration=4000, text='Welcome to our awesome experiment.<br>The introduction will start in 4s.')",
   "metadata": {
    "id": "4pNsfNfXywmz"
   },
   "outputs": [],
   "execution_count": null
  },
  {
   "cell_type": "markdown",
   "source": [
    "By adding the duration parameter, this stimulus will now be shown 4000ms.\n",
    "<details><summary>Optional: What is that &ltbr&gt - tag in the text parameter?</summary>\n",
    "The text parameter in a text stimulus is a HTML-text and we can use HTML-code to create it. The &ltbr&gt tag marks a line break.\n",
    "</details>"
   ],
   "metadata": {
    "id": "18oeypPj1m75"
   }
  },
  {
   "cell_type": "markdown",
   "source": [
    "#### Responses\n",
    "The timing of a stimulus is useful, but what if the for example, the introduction text is very long, and we want to give the participant the freedom to proceed whenever ready?\n",
    "\n",
    "For this purpose we can define a list of choices. These are keys on the keyboard, that will be recorded when the user presses them. They also end the current stimulus."
   ],
   "metadata": {
    "id": "-dgawLWC2-7y"
   }
  },
  {
   "cell_type": "code",
   "source": "introduction_stimulus_respond = Text(text=\"This is a very detailed explanation of our experiment.<br>Press SPACE to continue.\", choices=[' '])",
   "metadata": {
    "id": "gjhbk-pO275w"
   },
   "outputs": [],
   "execution_count": null
  },
  {
   "cell_type": "markdown",
   "source": [
    "The choices parameter expects a list of characters. Here, we chose the SPACE character (whitespace). We can also add more or different characters. For example, can you write a stimulus that asks for the participants handedness and accepts the letters `r`, `l` or `o` as choices?"
   ],
   "metadata": {
    "id": "6dw_VGqYR6qQ"
   }
  },
  {
   "cell_type": "code",
   "source": [
    "# Replace None in the following line:\n",
    "introduction_survey_handedness = None"
   ],
   "metadata": {
    "id": "SFBL5jatS4mC"
   },
   "outputs": [],
   "execution_count": null
  },
  {
   "cell_type": "markdown",
   "source": [
    "### Solution"
   ],
   "metadata": {
    "id": "TdQvaCBsSwtw"
   }
  },
  {
   "cell_type": "code",
   "source": "introduction_survey_handedness = Text(text=\"What is your handedness?<br>Press R for right, L for left, or O for other.\", choices=['r', 'l', 'o'])",
   "metadata": {
    "id": "XDFlHCGCS2MA"
   },
   "outputs": [],
   "execution_count": null
  },
  {
   "cell_type": "markdown",
   "source": [
    "### Survey Tool\n",
    "The described way to ask for demographic data is just a demonstration. SweetBean has extra functionality to conduct surveys and to design questionnaires."
   ],
   "metadata": {
    "id": "ztNwDwzTUqGh"
   }
  },
  {
   "cell_type": "markdown",
   "source": [
    "## Creating a block\n",
    "Do you remember how to create a block with the stimuli?"
   ],
   "metadata": {
    "id": "vD9nC-j_VdIN"
   }
  },
  {
   "cell_type": "code",
   "source": [
    "# Enter your code:"
   ],
   "metadata": {
    "id": "TArgFfDdVqVG"
   },
   "outputs": [],
   "execution_count": null
  },
  {
   "cell_type": "markdown",
   "source": [
    "### Solution"
   ],
   "metadata": {
    "id": "QLUlVXSYV09Z"
   }
  },
  {
   "cell_type": "code",
   "source": [
    "# import the functionality from sweetbean to create a block\n",
    "from sweetbean import Block\n",
    "\n",
    "# create a list of stimuli for the block\n",
    "introduction_list = [introduction_stimulus_timed, introduction_stimulus_respond, introduction_survey_handedness]\n",
    "\n",
    "# create the block\n",
    "introduction_block = Block(introduction_list)"
   ],
   "metadata": {
    "id": "7VdprIMSV4bY"
   },
   "outputs": [],
   "execution_count": null
  },
  {
   "cell_type": "markdown",
   "source": [
    "### Creating the experiment\n",
    "Do you remember how to create the experiment?"
   ],
   "metadata": {
    "id": "DccciCvhVvks"
   }
  },
  {
   "cell_type": "code",
   "source": [
    "# Enter your code:"
   ],
   "metadata": {
    "id": "HsOxHRGMWwhk"
   },
   "outputs": [],
   "execution_count": null
  },
  {
   "cell_type": "markdown",
   "source": [
    "### Solution"
   ],
   "metadata": {
    "id": "LGkPvBb0WySx"
   }
  },
  {
   "cell_type": "code",
   "source": [
    "# import the functionality from sweetbean to create experiments\n",
    "from sweetbean import Experiment\n",
    "\n",
    "# create a list of blocks\n",
    "block_list = [introduction_block]\n",
    "\n",
    "# create the experiment\n",
    "experiment = Experiment(block_list)"
   ],
   "metadata": {
    "id": "D5xduhbJzOH0"
   },
   "outputs": [],
   "execution_count": null
  },
  {
   "cell_type": "markdown",
   "source": [
    "## Exporting the experiment in html format\n",
    "Do you remember how to export the experiment to html?"
   ],
   "metadata": {
    "id": "GBBFkzmUWUaf"
   }
  },
  {
   "cell_type": "code",
   "source": [
    "# Enter your code:"
   ],
   "metadata": {
    "id": "mbby1h4qWtQ3"
   },
   "outputs": [],
   "execution_count": null
  },
  {
   "cell_type": "markdown",
   "source": [
    "### Solution"
   ],
   "metadata": {
    "id": "GLGYsePMWoqY"
   }
  },
  {
   "cell_type": "code",
   "source": [
    "# create the html file.\n",
    "experiment.to_html('index.html')"
   ],
   "metadata": {
    "id": "jXEAEtMAzTp_"
   },
   "outputs": [],
   "execution_count": null
  }
 ]
}
