{
 "nbformat": 4,
 "nbformat_minor": 0,
 "metadata": {
  "colab": {
   "provenance": [],
   "gpuType": "T4"
  },
  "kernelspec": {
   "name": "python3",
   "display_name": "Python 3 (ipykernel)",
   "language": "python"
  },
  "language_info": {
   "name": "python"
  },
  "accelerator": "GPU"
 },
 "cells": [
  {
   "cell_type": "markdown",
   "source": [
    "# (7) Generating Text-Based Experiments for LLMs\n",
    "\n",
    "Large language models (LLMs) have the potential to simulate human behavior in a variety of tasks, making them valuable simulators for behavioral experiments. SweetBean provides functionality for generating prompts for LLMs based on the same experiment specification used for human participants. In this example, we will execute our task switching experiment on a large language model.\n",
    "\n",
    "*Note: If you are running this tutorial in Google Colaboratory, we recommend changing the Runtime type to \"T4 GPU\".*"
   ],
   "metadata": {
    "id": "_ga934vwo4XY"
   }
  },
  {
   "cell_type": "markdown",
   "source": [
    "## Installing sweetbean"
   ],
   "metadata": {
    "id": "GYVALIiMqUX1"
   }
  },
  {
   "cell_type": "code",
   "source": [
    "!pip install sweetbean"
   ],
   "metadata": {
    "id": "Bv0jCPMAqV4i",
    "ExecuteTime": {
     "end_time": "2024-12-08T23:28:21.730769Z",
     "start_time": "2024-12-08T23:28:19.860772Z"
    }
   },
   "outputs": [
    {
     "name": "stdout",
     "output_type": "stream",
     "text": [
      "Requirement already satisfied: sweetbean in /Users/younesstrittmatter/Documents/GitHub/AutoResearch/sweetbean/.venv/lib/python3.11/site-packages (0.1.1.dev28+g4b938d1.d20241122)\r\n",
      "Requirement already satisfied: jinja2 in /Users/younesstrittmatter/Documents/GitHub/AutoResearch/sweetbean/.venv/lib/python3.11/site-packages (from sweetbean) (3.1.4)\r\n",
      "Requirement already satisfied: MarkupSafe>=2.0 in /Users/younesstrittmatter/Documents/GitHub/AutoResearch/sweetbean/.venv/lib/python3.11/site-packages (from jinja2->sweetbean) (3.0.2)\r\n",
      "\r\n",
      "\u001B[1m[\u001B[0m\u001B[34;49mnotice\u001B[0m\u001B[1;39;49m]\u001B[0m\u001B[39;49m A new release of pip is available: \u001B[0m\u001B[31;49m23.1.2\u001B[0m\u001B[39;49m -> \u001B[0m\u001B[32;49m24.3.1\u001B[0m\r\n",
      "\u001B[1m[\u001B[0m\u001B[34;49mnotice\u001B[0m\u001B[1;39;49m]\u001B[0m\u001B[39;49m To update, run: \u001B[0m\u001B[32;49mpip install --upgrade pip\u001B[0m\r\n"
     ]
    }
   ],
   "execution_count": 1
  },
  {
   "cell_type": "markdown",
   "source": [
    "## Experiment specification\n",
    "\n",
    "Below, we have the complete task switching experiment from Tutorial (5). Let's run the code below."
   ],
   "metadata": {
    "id": "K8LoN6skp6dc"
   }
  },
  {
   "cell_type": "code",
   "source": [
    "from sweetbean import Block, Experiment\n",
    "from sweetbean.variable import TimelineVariable\n",
    "from sweetbean.stimulus import Text\n",
    "\n",
    "## Specify timeline\n",
    "\n",
    "timeline = [\n",
    "    {'color': 'red', 'word': 'RED', 'task': 'color_naming'},\n",
    "    {'color': 'green', 'word': 'GREEN', 'task': 'color_naming'},\n",
    "    {'color': 'green', 'word': 'RED', 'task': 'word_reading'},\n",
    "    {'color': 'red', 'word': 'GREEN', 'task': 'word_reading'},\n",
    "    {'color': 'red', 'word': 'GREEN', 'task': 'word_reading'},\n",
    "    {'color': 'red', 'word': 'RED', 'task': 'color_naming'},\n",
    "    {'color': 'green', 'word': 'RED', 'task': 'word_reading'},\n",
    "    {'color': 'red', 'word': 'GREEN', 'task': 'color_naming'},\n",
    "    {'color': 'green', 'word': 'RED', 'task': 'color_naming'},\n",
    "    {'color': 'red', 'word': 'GREEN', 'task': 'word_reading'},\n",
    "]\n",
    "\n",
    "# declare timeline variables\n",
    "\n",
    "color = TimelineVariable('color')\n",
    "word = TimelineVariable('word')\n",
    "task = TimelineVariable('task')\n",
    "\n",
    "# Define the instruction text blocks\n",
    "\n",
    "instruction_welcome = Text(\n",
    "    text='Welcome to our task-switching experiment.<br><br> \\\n",
    "          In this experiment, you will alternate between two tasks: color naming and word reading.<br><br> \\\n",
    "          Press the SPACE key to continue.',\n",
    "    choices=[' ']\n",
    ")\n",
    "\n",
    "instruction_fixation = Text(\n",
    "    text='At the beginning of each trial, you will see a fixation cue:<br><br> \\\n",
    "          A \"+\" means you should perform the color-naming task.<br> \\\n",
    "          An \"x\" means you should perform the word-reading task.<br><br> \\\n",
    "          Press the SPACE key to continue.',\n",
    "    choices=[' ']\n",
    ")\n",
    "\n",
    "instruction_tasks = Text(\n",
    "    text='For the color-naming task:<br> \\\n",
    "          Identify the COLOR of the text, ignoring the word.<br><br> \\\n",
    "          For the word-reading task:<br> \\\n",
    "          Read the WORD, ignoring its color.<br><br> \\\n",
    "          Press the SPACE key to continue.',\n",
    "    choices=[' ']\n",
    ")\n",
    "\n",
    "instruction_responses = Text(\n",
    "    text='You will respond using the following keys:<br><br> \\\n",
    "          For RED (color or word): press the \"f\" key.<br> \\\n",
    "          For GREEN (color or word): press the \"j\" key.<br><br> \\\n",
    "          The stimulus will be displayed for a short period of time, so respond quickly.<br><br> \\\n",
    "          Press the SPACE key to continue.',\n",
    "    choices=[' ']\n",
    ")\n",
    "\n",
    "instruction_note = Text(\n",
    "    text='Remember:<br> \\\n",
    "          Pay attention to the fixation cue (\"+\" for color naming or \"x\" for word reading)<br><br> \\\n",
    "          to determine the task.<br><br> \\\n",
    "          Press the SPACE key to BEGIN the experiment.',\n",
    "    choices=[' ']\n",
    ")\n",
    "\n",
    "instruction_list = [\n",
    "    instruction_welcome,\n",
    "    instruction_fixation,\n",
    "    instruction_tasks,\n",
    "    instruction_responses,\n",
    "    instruction_note\n",
    "]\n",
    "\n",
    "instruction_block = Block(instruction_list)\n",
    "\n",
    "# Determine fixation cross based on task\n",
    "\n",
    "from sweetbean.variable import FunctionVariable\n",
    "\n",
    "def fixation_shape_fct(task):\n",
    "    if task == 'color_naming':\n",
    "        return '+'\n",
    "    return 'x'\n",
    "\n",
    "\n",
    "fixation_shape = FunctionVariable('fixation_shape', fixation_shape_fct, [task])\n",
    "\n",
    "# Determine correct response based on task, color, and word\n",
    "\n",
    "def correct_key_fct(word, color, task):\n",
    "    if (task == 'word_reading' and word == 'RED') or \\\n",
    "        (task == 'color_naming' and color == 'red'):\n",
    "        return 'f'\n",
    "    return 'j'\n",
    "\n",
    "correct_key = FunctionVariable('correct_key', correct_key_fct, [word, color, task])\n",
    "\n",
    "# Combine stimuli\n",
    "fixation = Text(1000, fixation_shape)\n",
    "so_s = Text(800)\n",
    "stroop = Text(2000, word, color, ['f', 'j'], correct_key)\n",
    "so_f = Text(300)\n",
    "\n",
    "# Declare block\n",
    "task_switching_block = Block([fixation, so_s, stroop, so_f], timeline)\n",
    "task_switching_block = Block([fixation, stroop], timeline)\n",
    "experiment = Experiment([task_switching_block])\n"
   ],
   "metadata": {
    "id": "N9z2HpeeqM9Y",
    "ExecuteTime": {
     "end_time": "2024-12-08T23:28:21.845250Z",
     "start_time": "2024-12-08T23:28:21.732555Z"
    }
   },
   "outputs": [],
   "execution_count": 2
  },
  {
   "cell_type": "markdown",
   "source": [
    "## Running the experiment in natural language"
   ],
   "metadata": {
    "id": "8gkbepekqIEs"
   }
  },
  {
   "cell_type": "markdown",
   "source": [
    "Instead of compiling the experiment into a web-based version for human participants, we can generate a text-based version for LLMs in natural language. Execute the following line to execute the experiment in natural language. You must enter key presses for each stimulus that requires a response."
   ],
   "metadata": {
    "id": "fCePuaqDr2Zi"
   }
  },
  {
   "cell_type": "code",
   "metadata": {
    "id": "vohCsAD6ozHF",
    "ExecuteTime": {
     "end_time": "2024-12-08T23:28:32.614085Z",
     "start_time": "2024-12-08T23:28:22.887426Z"
    }
   },
   "source": "data = experiment.run_on_language(get_input=input)",
   "outputs": [],
   "execution_count": 3
  },
  {
   "cell_type": "markdown",
   "source": [
    "The ``run_on_language`` function will return a dictionary with the data from the experiment."
   ],
   "metadata": {
    "id": "ej7RcKK4tKpt"
   }
  },
  {
   "cell_type": "markdown",
   "source": [
    "## Execute the experiment with an LLM as participant"
   ],
   "metadata": {
    "id": "D_v0CNCusXgz"
   }
  },
  {
   "cell_type": "markdown",
   "source": [
    "Let's install a package for running LLMs."
   ],
   "metadata": {
    "id": "MW-M5Fuztqoz"
   }
  },
  {
   "cell_type": "code",
   "source": "!pip install unsloth \"xformers==0.0.28.post2\"",
   "metadata": {
    "id": "PfB-d4R9tp2B"
   },
   "execution_count": null,
   "outputs": []
  },
  {
   "cell_type": "markdown",
   "source": [
    "Next, we want to execute the experiment with an LLM. Here, we use Centaur – an LLM fine-tuned to human behavior in cognitive psychology experiments. However, any model (for example, using [OpenAI](https://platform.openai.com/docs/overview), [HuggingFace](https://huggingface.co/), [LLama](https://www.llama-api.com/), or [Google](https://console.cloud.google.com/apis/library) API) can be used as a synthetic participant.\n",
    "\n",
    "In order to execute the experiment with an LLM, we need to define a function that returns the LLMs response to every instruction it receives."
   ],
   "metadata": {
    "id": "6QCRffJ0sbIv"
   }
  },
  {
   "cell_type": "code",
   "source": [
    "from unsloth import FastLanguageModel\n",
    "import transformers\n",
    "\n",
    "model, tokenizer = FastLanguageModel.from_pretrained(\n",
    "    model_name=\"marcelbinz/Llama-3.1-Centaur-8B-adapter\",\n",
    "    max_seq_length=32768,\n",
    "    dtype=None,\n",
    "    load_in_4bit=True,\n",
    ")\n",
    "FastLanguageModel.for_inference(model)\n",
    "\n",
    "pipe = transformers.pipeline(\n",
    "    \"text-generation\",\n",
    "    model=model,\n",
    "    tokenizer=tokenizer,\n",
    "    trust_remote_code=True,\n",
    "    pad_token_id=0,\n",
    "    do_sample=True,\n",
    "    temperature=1.0,\n",
    "    max_new_tokens=1,\n",
    ")\n",
    "\n",
    "\n",
    "def generate(input):\n",
    "    return pipe(input)[0][\"generated_text\"][len(input):]"
   ],
   "metadata": {
    "id": "Ik8X29QQs9pO"
   },
   "execution_count": null,
   "outputs": []
  },
  {
   "cell_type": "markdown",
   "source": [
    "Next, we can run the experiment on an LLM. Note that the LLM receives the full trial history as a prompt (including information about the responses it made in previous trials)."
   ],
   "metadata": {
    "id": "rgQlPTN1tZt1"
   }
  },
  {
   "cell_type": "code",
   "source": [
    "data = experiment.run_on_language(get_input=generate)"
   ],
   "metadata": {
    "id": "1QKZOKqpti9U"
   },
   "execution_count": null,
   "outputs": []
  },
  {
   "cell_type": "markdown",
   "source": "Let's have a look at the LLM's response. In this case, we want to index the first block of the experiment (``0``) and the eighth trial (``7``):",
   "metadata": {
    "id": "Z-4atq1ewzLv"
   }
  },
  {
   "cell_type": "code",
   "source": [
    "data[0][7]"
   ],
   "metadata": {
    "id": "RgIviEQRwAwn"
   },
   "execution_count": null,
   "outputs": []
  },
  {
   "cell_type": "markdown",
   "source": [
    "We observe that the network correctly responded with the key \"J\" which was incorrect.\n",
    "\n",
    "Note that the data produced here is in the same format as the data produced via web-experiments with human participants. This functionality eases the comparison of human and LLM behavior, and enables the alignment of LLMs to behavior of human participants in combination with automated data collection via web-experiments, as supported by [AutoRA](https://autoresearch.github.io/autora/)."
   ],
   "metadata": {
    "id": "GvB2zqhvw9ek"
   }
  }
 ]
}
