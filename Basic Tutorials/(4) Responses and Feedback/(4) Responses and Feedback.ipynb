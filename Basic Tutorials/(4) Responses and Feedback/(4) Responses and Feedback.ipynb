{
 "nbformat": 4,
 "nbformat_minor": 0,
 "metadata": {
  "colab": {
   "provenance": [],
   "collapsed_sections": [
    "gdpTK0CZSwMO",
    "pKtgG0hHlB7k",
    "eCwUlgJ1qMQY"
   ]
  },
  "kernelspec": {
   "name": "python3",
   "display_name": "Python 3"
  },
  "language_info": {
   "name": "python"
  }
 },
 "cells": [
  {
   "cell_type": "markdown",
   "source": [
    "# (4) Responses and Feedback\n",
    "\n",
    "Here, we learn how to add a feedback stimulus indicating a correct or false response."
   ],
   "metadata": {
    "id": "YmmUtUIar_NS"
   }
  },
  {
   "cell_type": "markdown",
   "source": [
    "## Installing sweetbean"
   ],
   "metadata": {
    "id": "E5DW7Mg5swMl"
   }
  },
  {
   "cell_type": "code",
   "source": [
    "!pip install sweetbean"
   ],
   "metadata": {
    "id": "4f4nnUgPuQZ9",
    "outputId": "56e078c4-f3bc-4e38-8188-dbe55f2b8547",
    "colab": {
     "base_uri": "https://localhost:8080/"
    }
   },
   "execution_count": null,
   "outputs": [
    {
     "output_type": "stream",
     "name": "stdout",
     "text": [
      "Looking in indexes: https://pypi.org/simple, https://us-python.pkg.dev/colab-wheels/public/simple/\n",
      "Requirement already satisfied: sweetbean in /usr/local/lib/python3.8/dist-packages (0.0.19)\n"
     ]
    }
   ]
  },
  {
   "cell_type": "markdown",
   "source": [
    "Now, we are looking to incorporate responses from the participant and response feedback to the experiment. Specifically, we would like the participant to press the key `f` using their left index finger when the ink color of the color word is red. Similarly, we would like the participant to press the key `j` with their right index finger when the color is green.\n",
    "\n",
    "You can practice your SweetBean skills by implementing these instructions in a block (if you feel comfortable creating text stimuli you can skip this part and use the instructions block in the solution):"
   ],
   "metadata": {
    "id": "WV_t3zqMRWsH"
   }
  },
  {
   "cell_type": "code",
   "source": [
    "# Enter your code here:"
   ],
   "metadata": {
    "id": "Joq9bmOeSuFe"
   },
   "execution_count": null,
   "outputs": []
  },
  {
   "cell_type": "markdown",
   "source": [
    "### Solution"
   ],
   "metadata": {
    "id": "gdpTK0CZSwMO"
   }
  },
  {
   "cell_type": "code",
   "source": [
    "# imports\n",
    "from sweetbean.stimulus import Text\n",
    "from sweetbean import Block\n",
    "\n",
    "# Creating the Instructions\n",
    "welcome = Text(text=\"Welcome to our experiment.<br>Here, you will have to react to the ink color of a color word.<br>Press SPACE to continue\", choices=[' '])\n",
    "instruction_red = Text(text=\"If the ink color is <b>red<b>,<br>press <b>F<b> with your left index finger as fast as possible.<br>Press F to continue\", choices=['f'])\n",
    "instruction_green = Text(text=\"If the ink color is <b>green<b>,<br>press <b>J<b> with your right index finger as fast as possible.<br>Press J to continue\", choices=['j'])\n",
    "instructions_end = Text(text=\"The experiment will start now.<br>React as fast an as accurate as possible.<br>Remember:<br>React to the ink color not the meaning of the word.<br>Ress SPACE to continus\", choices=[' '])\n",
    "\n",
    "# Creating the stimulus sequence\n",
    "instructions_sequence = [welcome, instruction_red, instruction_green, instructions_end]\n",
    "\n",
    "# Creating the block\n",
    "instructions_block = Block(instructions_sequence)"
   ],
   "metadata": {
    "id": "dw9vuCGrSyk_"
   },
   "execution_count": null,
   "outputs": []
  },
  {
   "cell_type": "markdown",
   "source": [
    "## Creating a timeline"
   ],
   "metadata": {
    "id": "qciisI4wwtsv"
   }
  },
  {
   "cell_type": "code",
   "source": [
    "timeline = [\n",
    "    {'color': 'red', 'word': 'RED'},\n",
    "    {'color': 'green', 'word': 'GREEN'},\n",
    "    {'color': 'green', 'word': 'RED'},\n",
    "    {'color': 'red', 'word': 'GREEN'},\n",
    "]"
   ],
   "metadata": {
    "id": "w9fF4jACw7y5"
   },
   "execution_count": null,
   "outputs": []
  },
  {
   "cell_type": "markdown",
   "source": [
    "## Declare TimelineVariables\n",
    "Do you remember how to declare the timeline variables(if you feel comfortable creating timeline variables, you can skip this part and use the solution)?"
   ],
   "metadata": {
    "id": "jI187rtxxVRl"
   }
  },
  {
   "cell_type": "code",
   "source": [
    "# Enter your code here:"
   ],
   "metadata": {
    "id": "AmOjJQAlMRor"
   },
   "execution_count": null,
   "outputs": []
  },
  {
   "cell_type": "markdown",
   "source": [
    "### Solution"
   ],
   "metadata": {
    "id": "6Rqz4M6LMVuV"
   }
  },
  {
   "cell_type": "code",
   "source": [
    "# import the functionality from sweetbean\n",
    "from sweetbean.variable import TimelineVariable\n",
    "\n",
    "## declare the timeline variables\n",
    "\n",
    "# color: The name has to be color (it is the name in the timeline), and it has the levels red and green\n",
    "color = TimelineVariable(name=\"color\")\n",
    "\n",
    "# word: The name has to be word (it is the name in the timeline), and it has the levels RED and GREEN\n",
    "word = TimelineVariable(name=\"word\")\n"
   ],
   "metadata": {
    "id": "4pNsfNfXywmz"
   },
   "execution_count": null,
   "outputs": []
  },
  {
   "cell_type": "markdown",
   "source": [
    "## Creating function variables\n",
    "In SweetBean, in addition to static parameters and timeline parameters, we can also use function parameters. These are parameters, that derive from other features of the trial. Here, we want to derive the correct key from the ink color of the stimulus. Remember: `f` for red color words and `j` for green color words."
   ],
   "metadata": {
    "id": "BH_uPjk0WXiJ"
   }
  },
  {
   "cell_type": "markdown",
   "source": [
    "### Defining the functions\n",
    "We can first create a function that returns the correct key for a given color:"
   ],
   "metadata": {
    "id": "l4xeYOQYXb6x"
   }
  },
  {
   "cell_type": "code",
   "source": [
    "# defining the predicate for the f-level of the \"correct response\" parameter\n",
    "def correct_key_fct(cl):\n",
    "    return 'f' if cl == 'red' else 'j'\n"
   ],
   "metadata": {
    "id": "k5b_aGSKZEgM"
   },
   "execution_count": null,
   "outputs": []
  },
  {
   "cell_type": "markdown",
   "source": [
    "Some people might have trouble understanding the code above. A equivalent writing with an if and else statement is:\n",
    "```\n",
    "def correct_key_fct(color):\n",
    "  if color == 'red':\n",
    "    return 'f'\n",
    "  else:\n",
    "    return 'j'\n",
    "```\n",
    "<details><summary>Optional: Python is whitespace sensitive!</summary>In contrast to many other programming languages, Python is whitespace sensitive. Whitespaces in Python do matter and are used to block the code, for example to define functions, in loops or blocks of if-else statements. In that sense they are equivalent to the curly brackets '{}' in Java, JavaScript, C++ and many other programming languages.\n",
    "</details>\n"
   ],
   "metadata": {
    "id": "aFJ3wwaXZjxk"
   }
  },
  {
   "cell_type": "markdown",
   "source": [
    "## Creating the function variable levels\n",
    "With the predicates defined, we can now define the function variable. We need to pass in a name, the function and the arguments that we want to pass into the function. In this case, we want to pass in the color of the stimulus."
   ],
   "metadata": {
    "id": "18oeypPj1m75"
   }
  },
  {
   "cell_type": "code",
   "source": [
    "# importing the functionality\n",
    "from sweetbean.variable import FunctionVariable\n",
    "\n",
    "# declare the variable\n",
    "correct_key = FunctionVariable('correct_key', correct_key_fct, [color])"
   ],
   "metadata": {
    "id": "gjhbk-pO275w"
   },
   "execution_count": null,
   "outputs": []
  },
  {
   "cell_type": "markdown",
   "source": [
    "## Create the stimulus\n",
    "The function variable can be used in the creation of the stimulus just as a static or a timeline parameter. Here, we introduce another feature of the text stimulus: We can provide a correct_key parameter. This correct_key parameter can be used for data analysis later, but it can also be used to provide feedback (we will see how this is used later in this tutorial)"
   ],
   "metadata": {
    "id": "wm79hO3mc2dU"
   }
  },
  {
   "cell_type": "code",
   "source": [
    "# imports\n",
    "from sweetbean.stimulus import Text\n",
    "\n",
    "# declaring the stimulus\n",
    "stroop = Text(duration=2500, text=word, color=color, choices=['j', 'f'], correct_key=correct_key)"
   ],
   "metadata": {
    "id": "1cKf0DQb8d6N"
   },
   "execution_count": null,
   "outputs": []
  },
  {
   "cell_type": "markdown",
   "source": [
    "This is a stimulus that shows a color word in the color and with the word provided by the timeline. The stimulus is shown for 2500ms or till a response is given. The user can press either `j` or `f`.\n",
    "\n",
    "<details><summary>Comprehension question: Can you think of another way to get the correct_key parameter that doesnt' depend on a function variable?</summary>Here, we used the derived paramter to demonstrate how it is used. But we could also simply add the keys to the timeline and use a timeline varibale insted. Often times, there are multiple ways of implementing a desired experiment.</details>"
   ],
   "metadata": {
    "id": "ndeZnvwCdw0A"
   }
  },
  {
   "cell_type": "markdown",
   "source": [
    "## Adding feedback\n",
    "To add feedback, we introduce yet another type of variable: the data variable. At the end of each stimulus, data for this stimulus is stored in a container. This data contains stimulus features like color, word and duration, but also user input like key presses. With the data variable, we can access this container to create adaptive stimuli like feedback.\n"
   ],
   "metadata": {
    "id": "ztNwDwzTUqGh"
   }
  },
  {
   "cell_type": "markdown",
   "source": [
    "## Creating the data variable\n",
    "We create a data variable for the correct-data of a trial. This is a special data point, that can be accessed in stimuli that have the correct_key parameter. A data variable also uses a window argument that specifies how far back in time the data should be accessed. In this case, we want to access the data of the stimulus that came before the current stimulus. So we use a window of 1."
   ],
   "metadata": {
    "id": "xnpjSWWXfbY2"
   }
  },
  {
   "cell_type": "code",
   "source": [
    "# import\n",
    "from sweetbean.variable import DataVariable\n",
    "\n",
    "# declare the data variable\n",
    "correct = DataVariable('correct', 1)"
   ],
   "metadata": {
    "id": "pe8Grj_X5Jge"
   },
   "execution_count": null,
   "outputs": []
  },
  {
   "cell_type": "markdown",
   "source": [
    "## Defining the function\n",
    "Again, we want to create an adaptive text based on weather the response was correct or notIn the same way we can access timeline variables in predicate functions, we can also access data variables."
   ],
   "metadata": {
    "id": "AttyWzC5hoXB"
   }
  },
  {
   "cell_type": "code",
   "source": [
    "# define the function\n",
    "def get_feedback(was_correct):\n",
    "    if was_correct:\n",
    "        return 'That was correct!'\n",
    "    return 'That was incorrect!'\n"
   ],
   "metadata": {
    "id": "FGBrY-d1h4wf"
   },
   "execution_count": null,
   "outputs": []
  },
  {
   "cell_type": "markdown",
   "source": [
    "## Creating the function variable\n",
    "Now, we create the function variable. Instead of passing a timeline variable, we pass the data variable."
   ],
   "metadata": {
    "id": "CF7RHg3_iasp"
   }
  },
  {
   "cell_type": "code",
   "source": "feedback_text = FunctionVariable('feedback_text', get_feedback, [correct])",
   "metadata": {
    "id": "8SBJfC5SijYz"
   },
   "execution_count": null,
   "outputs": []
  },
  {
   "cell_type": "markdown",
   "source": [
    "<details><summary>Comprehension question: Can you think of another way to get the feeback word parameter that doesnt' depend on a derived paramter?</summary>Here, we can not use a timeline, since this is an adaptive parameter. We have to use the derived parameter and the data variable since we have use information derived from user input.</details>"
   ],
   "metadata": {
    "id": "Yy6_py5eoqfM"
   }
  },
  {
   "cell_type": "markdown",
   "source": [
    "## Create a parameter for the color of the feedback.\n",
    "Maybe we also want to change the color of the feedback (green for positive and red for negative feedback). Can you create the derived parameter?"
   ],
   "metadata": {
    "id": "f8ngD6I4knfs"
   }
  },
  {
   "cell_type": "code",
   "source": [
    "# Enter your code:\n",
    "# ...\n",
    "feedback_color = None"
   ],
   "metadata": {
    "id": "POrdQJQtk8Ic"
   },
   "execution_count": null,
   "outputs": []
  },
  {
   "cell_type": "markdown",
   "source": [
    "### Solution"
   ],
   "metadata": {
    "id": "pKtgG0hHlB7k"
   }
  },
  {
   "cell_type": "code",
   "source": [
    "# create the levels\n",
    "def get_feedback_color(was_correct):\n",
    "    return 'green' if was_correct else 'red'\n",
    "\n",
    "feedback_color = FunctionVariable('feedback_color', get_feedback_color, [correct])"
   ],
   "metadata": {
    "id": "HthxjdoplDQ2"
   },
   "execution_count": null,
   "outputs": []
  },
  {
   "cell_type": "markdown",
   "source": [
    "## Creating the feedback stimulus"
   ],
   "metadata": {
    "id": "vD9nC-j_VdIN"
   }
  },
  {
   "cell_type": "code",
   "source": "feedback = Text(duration=1000, text=feedback_text,color=feedback_color)",
   "metadata": {
    "id": "qCBFvQvJljHq"
   },
   "execution_count": null,
   "outputs": []
  },
  {
   "cell_type": "markdown",
   "source": [
    "## Adding a fixation cross, creating the block, creating the experiment and exporting the html\n",
    "\n",
    "You can practice your SweetBean skills by adding a fixation cross and completing experiment. Remember there are two blocks now. If you feel comfortable creating blocks and experiments you can skip this part and use the code in the solution:"
   ],
   "metadata": {
    "id": "QLUlVXSYV09Z"
   }
  },
  {
   "cell_type": "code",
   "source": [
    "# Enter your code:"
   ],
   "metadata": {
    "id": "6ohWIiwhqJS1"
   },
   "execution_count": null,
   "outputs": []
  },
  {
   "cell_type": "markdown",
   "source": [
    "### Solution"
   ],
   "metadata": {
    "id": "eCwUlgJ1qMQY"
   }
  },
  {
   "cell_type": "code",
   "source": [
    "# import the functionality from sweetbean to create experiments\n",
    "from sweetbean import Block, Experiment\n",
    "\n",
    "# fixation stimulus\n",
    "fixation = Text(800, '+')\n",
    "\n",
    "# create a stimulus sequence\n",
    "stimulus_sequence = [fixation, stroop, feedback]\n",
    "\n",
    "# create the trial block\n",
    "trial_block = Block(stimulus_sequence, timeline)\n",
    "\n",
    "# create the experiment from the two blocks\n",
    "experiment = Experiment([instructions_block, trial_block])\n",
    "\n",
    "# export to the html file\n",
    "experiment.to_html('index.html')\n"
   ],
   "metadata": {
    "id": "7VdprIMSV4bY"
   },
   "execution_count": null,
   "outputs": []
  }
 ]
}
